{
 "cells": [
  {
   "cell_type": "markdown",
   "metadata": {},
   "source": [
    "## Idea Description\n",
    "Our idea is to pick apart the Billboard Hot 100 charts which is a list of top ranked songs based off of popularity and other data gathered during a specific week. It is unique because in the list itself there is so much data and relations such as many people listening to many songs, one artist to many songs, many rankings to many songs, one artist to many songs, etc. It is also unique because we may hear the songs on the radio but it is not something we actively think about on a daily basis. The songs are constantly changing which means this calls for a lot more variety in the lists we will be scrolling through to find the information we want. So, it’ll be interesting to dive into the data and form the tables to discover relationships. We would be borrowing the information from another business because the data that is collected is provided by other outside sources. Billboard just compiles the end data to create the Hot 100. A typical business interaction at this business includes ranking the most popular songs of the week across all genres. These are all ranked based on radio airplay audience impressions which is measured by Nielsen Music. Billboard also uses sales data compiled by Nielsen Music and streaming activity data in which online music sources provide. In the end, their “equation” to form the HOT 100 is Radio Airplay + Sales Data + Streaming Data. That allows them to update the list on a weekly basis. "
   ]
  },
  {
   "cell_type": "markdown",
   "metadata": {},
   "source": [
    "![](Billboard.jpg)"
   ]
  },
  {
   "cell_type": "markdown",
   "metadata": {},
   "source": [
    "## Billboard music charts (top 100, etc)\n",
    "\n",
    "### Goal: What song has been on the top 100 chart the longest.\n",
    "5 table ideas:\n",
    "* Many people listening to many songs, many downloads to many songs\n",
    "    * Many people (audience) listening to different songs, a lot of downloads for different songs\n",
    "    * The # of listeners, the songs they listen to, the songs that are downloaded\n",
    " * One artist to many songs, many rankings to many songs\n",
    "    * One artist comes out with many songs and there are many different rankings on the charts to many songs\n",
    "    * The artist's name, the songs they perform, the rankings of each song\n",
    "* Many rankings to one song, many streams to one song\n",
    "    * Many rankings applied to one song throughout time, there are many streams to that one song\n",
    "    * The rankings correlated to a single song throughout time (each week, etc), the streams for that song\n",
    "\n",
    "__End User Data:__ The number of streams for a single song constantly affect the rankings that the song will be at (the more streams, the higher the ranking that week, the less streams, the lower the ranking that week)\n",
    "* One artist to many albums, many songs to many albums\n",
    "    * One artist creates many albums and there are many songs in many albums\n",
    "    * Artist name, the albums they created, the songs in the albums\n",
    "* Many dates to many songs, many rankings to many songs\n",
    "    * There are many release dates to many songs and many rankings applied to many songs throughout time\n",
    "    * Different dates correlated with what time the songs came out, the rankings correlated with the songs\n"
   ]
  },
  {
   "cell_type": "markdown",
   "metadata": {},
   "source": [
    "## Idea Description:\n",
    "This idea involves collecting information regarding IST students over time. We are interested in visualizing the change in IST majors through the years, as it is an emerging field that is becoming more and more popular. The College of IST is unique because of how new it is. This field continues to expand rapidly with the emergence of new technologies. Analyzing the demand for students in this field could prove valuable not only to the university, but to prospective students looking for a growing job market. In order to accomplish this, we would begin by collecting the number of past and current IST majors. This would be further broken down into students enrolled in IST classes and the different majors of these students. By separating IST majors from those who are only enrolled in IST classes will give us a better picture of the demographics within the school. In order to gather a deeper understanding of IST students, we would look at their past academic history, specifically noting if they switched from another major into IST and at what point in their education this occurred. Information about IST classes would be gathered. We would look at class size, the number of IST instructors, and the number of IST advisors to students. A typical day in IST is the same as the other colleges at Penn State. Students go to class, professors lecture and hold office hours, and the administration staff keep the college running. What we are most interested in is the activity of the students and their relationship to the College of IST.\n"
   ]
  },
  {
   "cell_type": "markdown",
   "metadata": {},
   "source": [
    "![](IST.png)"
   ]
  },
  {
   "cell_type": "markdown",
   "metadata": {},
   "source": [
    "## A specific academic department at penn state (IST) \n",
    "### Goal: What major is the most popular to switch to\n",
    "5 table ideas:\n",
    "* Many students to one major, many classes to one major\n",
    "        * Many students declare one major and many classes are part of the requirements for that one major\n",
    "    * A lot of students and the one major they are all in, the classes within the requirements for that major\n",
    "* Many major switches to one major, many grad years to one major\n",
    "    * Switches from many majors to one major, many different graduation years in one major\n",
    "    * Different major switches, which major is switched into, the graduation year of students within that major\n",
    "__End User Data:__ The number of switches into that major will constantly affect the different graduation years for each student in the that major (the more switches, the more diverse the graduation years may span, the less switches, the less diverse, i assume)\n",
    "* One major to many profs, many students to many profs\n",
    "    * One major contains many professors and there are many students taught by many professors\n",
    "    * A single major, the professors that are most related to that major (possible issue is a professor who isn’t in just one major), the students taught by those professors\n",
    "* Many students to one class section, one professor to one class section\n",
    "    * There are many students in one class section and only one professor teaches one class section (we are only taking in account of the main teaching professor, not the coordinators or teaching assistants also assigned to the class section).\n",
    "* One advisor to many students, one major to many students\n",
    "    * One advisor is assigned many students, one major contains many students (for example, math department has 2 advisors. Each advisor has many students. There are many students to the one major. There is one math major, but there are different options, they are still all under the same major.)\n"
   ]
  },
  {
   "cell_type": "markdown",
   "metadata": {},
   "source": [
    "## Idea Description:\n",
    "This idea will entail gathering data pertaining to the demographics of the city of State College. We will be looking at population changes in the city at certain times of the year. What makes this unique is that the population of State College is constantly changing. For example, in summer all the students are gone so the population will look low as compared to in the fall when all of the students come back. Another unique trend we will see will be looking at the population during football season in the fall. We even discussed in class that State College can become the third biggest city in Pennsylvania on certain home game days. It will be interesting to see how drastically the population changes at certain times of the year. As individuals, we are all just one student here living in State College amongst 40,000 other students that most likely forget about the rest of the population that aren’t students living in State College. We would be borrowing data from another business because we will be gathering data that is being taken from an outside source. A typical business interaction in the city of State College might be different than most cities that come to mind. It reminds me of a small town that houses students, non-students, families, and more. There are businesses, restaurants, hotels, sports, schools, and other services that draw people in. State College is in Centre County and their demographics are updated fairly often and accurately. \n"
   ]
  },
  {
   "cell_type": "markdown",
   "metadata": {},
   "source": [
    "![](demographics.jpg)"
   ]
  },
  {
   "cell_type": "markdown",
   "metadata": {},
   "source": [
    "## Demographics of State College\n",
    "### Goal: \n",
    "5 table ideas:\n",
    "* Many people to one game, one game to many teams\n",
    "    * The people who attend a single game, the teams playing at the game\n",
    "* One team to many games, one team to many teammates.\n",
    "    * There is a single team that plays many games, there are many teammates in one team\n",
    "* Many teammates to many teams, many teams to many games.\n",
    "    * There are many teams with many diff teammates in each team, and there are many teams playing many games\n",
    "* One university to many games, many games to many people.\n",
    "    * One university has many games, and there are many people attending many games\n",
    "__End User Data:__ Depending on how many games are hosted by the university (also who we’re playing that game as well as the theme of the game) will affect the number of people coming to state college/university park and affecting the population (ex. If it’s a white-out game vs michigan, more people, if it’s a random game against appalachian state, less people).\n",
    "* One university to one team, one team to many games\n",
    "    * One university has one team, and that one team plays many games\n"
   ]
  }
 ],
 "metadata": {
  "kernelspec": {
   "display_name": "Python 3",
   "language": "python",
   "name": "python3"
  },
  "language_info": {
   "codemirror_mode": {
    "name": "ipython",
    "version": 3
   },
   "file_extension": ".py",
   "mimetype": "text/x-python",
   "name": "python",
   "nbconvert_exporter": "python",
   "pygments_lexer": "ipython3",
   "version": "3.7.3"
  }
 },
 "nbformat": 4,
 "nbformat_minor": 2
}
