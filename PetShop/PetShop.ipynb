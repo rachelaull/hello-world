{
 "cells": [
  {
   "cell_type": "markdown",
   "metadata": {},
   "source": [
    "# Description:"
   ]
  },
  {
   "cell_type": "markdown",
   "metadata": {},
   "source": [
    "    As a group in class we looked at everyone’s pet shop Entity Relationship diagrams that we had partially prepared for class and we all noticed that all of our diagrams were similar since we were all assigned to do a pet shop entity relationship diagram in preparation for this next group project. We chose to stick with just one of the entity relationship diagrams. We chose the one that had most of the requirements done, instead of trying to combine them all into one since we had similar ideas. The Entity Relationship diagram includes entities, relationships, attributes, primary keys, foreign keys, and it shows the connectivity and cardinality between each table. Our diagram’s tables were based off of each category we could find in the situation. We created seven tables, fish, pets, food purchases, animal purchases, aquariums, and loyalty program. We have eight many to many relationships, for example, pet type to food type, and food id to food purchases. We also have two one to one relationships such as, fish to animal type and, pet type and animal type. We used verbs such as eats, applied, and paired in description to the cardinality of the relationships and tables. In the table, there are many primary keys that can be found as foreign keys in separate tables such as enclosure number, aquarium number, and customer ID. The Entity Relationship diagram is very intricate and it is interesting to see how in depth we could go with the pet shop situation provided in class."
   ]
  },
  {
   "cell_type": "markdown",
   "metadata": {},
   "source": [
    "# ER Diagram:"
   ]
  },
  {
   "cell_type": "markdown",
   "metadata": {},
   "source": [
    "<img style=\"width:1400px;max-width:100%;|\" src=\"Lab.svg\" alt=\"Pet Shop ER Diagram\" title=\"Pet Shop ER Diagram\"/>"
   ]
  }
 ],
 "metadata": {
  "kernelspec": {
   "display_name": "Python 3",
   "language": "python",
   "name": "python3"
  },
  "language_info": {
   "codemirror_mode": {
    "name": "ipython",
    "version": 3
   },
   "file_extension": ".py",
   "mimetype": "text/x-python",
   "name": "python",
   "nbconvert_exporter": "python",
   "pygments_lexer": "ipython3",
   "version": "3.7.3"
  }
 },
 "nbformat": 4,
 "nbformat_minor": 2
}
