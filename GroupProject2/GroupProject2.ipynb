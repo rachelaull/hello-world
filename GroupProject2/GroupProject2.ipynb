{
 "cells": [
  {
   "cell_type": "markdown",
   "metadata": {},
   "source": [
    "# Group Assignment 2:"
   ]
  },
  {
   "cell_type": "markdown",
   "metadata": {},
   "source": [
    "### Description:"
   ]
  },
  {
   "cell_type": "markdown",
   "metadata": {},
   "source": [
    "    As a group we worked on this project in class during the time that we were given, and we also met outside of class to finish it. We first looked at our first group project and looked to see if there were any mistakes that we saw. We also looked at information that could be added for this second assignment that would be beneficial to include in our charts. Then we looked at what we touched on in our description that we said that we would be expanding on later. We have our foreign keys and primary keys presented being, song title, chart, artist name, streaming platform, and album name. Under each chart we listed several attributes that we would be looking at. These could include songs, artists, number of streams, ranking, genre, album name, record company, and many others. These charts are connected through streams, listings, and acquisitions of downloads. Since we are strictly looking at the Billboard Hot 100 this gives us a set number of songs of 100 and a range of number of artists. There could be multiple songs under one artist or there could be a band of artists for one song. Songs, artists, and albums can also acquire many streams and downloads that could possibly affect the songs rankings. As we continue to move forward with this chosen topic, our group is interested in exploring these charts, relationships, and entities more in depth. Seeing the connectivity and cardinality on our diagram shows just how deep we could go. "
   ]
  },
  {
   "cell_type": "markdown",
   "metadata": {},
   "source": [
    "### ER Diagram"
   ]
  }
 ],
 "metadata": {
  "kernelspec": {
   "display_name": "Python 3",
   "language": "python",
   "name": "python3"
  },
  "language_info": {
   "codemirror_mode": {
    "name": "ipython",
    "version": 3
   },
   "file_extension": ".py",
   "mimetype": "text/x-python",
   "name": "python",
   "nbconvert_exporter": "python",
   "pygments_lexer": "ipython3",
   "version": "3.7.3"
  }
 },
 "nbformat": 4,
 "nbformat_minor": 2
}
