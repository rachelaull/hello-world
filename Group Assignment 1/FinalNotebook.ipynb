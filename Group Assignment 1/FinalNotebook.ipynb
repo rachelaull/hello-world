{
 "cells": [
  {
   "cell_type": "markdown",
   "metadata": {},
   "source": [
    "# Billboard music charts (top 100, etc)\n",
    "* Goal: What song has been on the top 100 chart the longest.\n",
    "* 5 table ideas:\n",
    "* Many people listening to many songs, many downloads to many songs\n",
    "    * Many people (audience) listening to different songs, a lot of downloads for different songs\n",
    "    * The # of listeners, the songs they listen to, the songs that are downloaded\n",
    "* One artist to many songs, many rankings to many songs\n",
    "    * One artist comes out with many songs and there are many different rankings on the charts to many songs\n",
    "    * The artist's name, the songs they perform, the rankings of each song\n",
    "* Many rankings to one song, many streams to one song\n",
    "    * Many rankings applied to one song throughout time, there are many streams to that one song\n",
    "    * The rankings correlated to a single song throughout time (each week, etc), the streams for that song\n",
    "    * End User Data: The number of streams for a single song constantly affect the rankings that the song will be at (the more streams, the higher the ranking that week, the less streams, the lower the ranking that week)\n",
    "* One artist to many albums, many songs to many albums\n",
    "    * One artist creates many albums and there are many songs in many albums\n",
    "    * Artist name, the albums they created, the songs in the albums\n",
    "* Many dates to many songs, many rankings to many songs\n",
    "    * There are many release dates to many songs and many rankings applied to many songs throughout time\n",
    "    * Different dates correlated with what time the songs came out, the rankings correlated with the songs\n"
   ]
  },
  {
   "cell_type": "markdown",
   "metadata": {},
   "source": [
    "![](diagram2.png)"
   ]
  },
  {
   "cell_type": "markdown",
   "metadata": {},
   "source": [
    "# Idea Description:\n",
    "Our idea is to pick apart the Billboard Hot 100 charts which is a list of top ranked songs based off of popularity and other data gathered during a specific week. It is unique because in the list itself there is so much data and relations such as many people listening to many songs, one artist to many songs, many rankings to many songs, one artist to many songs, etc. It is also unique because we may hear the songs on the radio but it is not something we actively think about on a daily basis. The songs are constantly changing which means this calls for a lot more variety in the lists we will be scrolling through to find the information we want. So, it’ll be interesting to dive into the data and form the tables to discover relationships. We would be borrowing the information from another business because the data that is collected is provided by other outside sources. Billboard just compiles the end data to create the Hot 100. A typical business interaction at this business includes ranking the most popular songs of the week across all genres. These are all ranked based on radio airplay audience impressions which is measured by Nielsen Music. Billboard also uses sales data compiled by Nielsen Music and streaming activity data in which online music sources provide. In the end, their “equation” to form the HOT 100 is Radio Airplay + Sales Data + Streaming Data. That allows them to update the list on a weekly basis. This idea to pick apart the Billboard Hot 100 chart will be the idea we chose for our final topic. We chose this topic because we thought that it gave us a lot of options for when we make the tables ideas and the data that would be stored inside those tables. As you can see in the tables above there are a variety of attributes connected by many relationships. We have brought in songs, listeners, downloads, artists, rankings, streams, albums, and dates as the attributes and connected them through relationships to prepare us to gather the data found on the Hot 100 chart. We have several many to many and one to many relationships involved. If we wanted to add to this we could also include specific stages of the record certification process. For example, gold, platinum, multi-platinum, and diamond. We would then look at these, and compare them through relationships to then gather data. The constraints that we may across could be if there is a song with multiple artists, and if there is a song that can be placed under more than one genre. So when there is a song with multiple genres we would have to make a seperate table for each genre with the same song and it would appear multiple times. When there is a song with multiple artists we would have to make multiple tables with the same song and different artists and it would again show multiple times."
   ]
  },
  {
   "cell_type": "code",
   "execution_count": null,
   "metadata": {},
   "outputs": [],
   "source": []
  }
 ],
 "metadata": {
  "kernelspec": {
   "display_name": "Python 3",
   "language": "python",
   "name": "python3"
  },
  "language_info": {
   "codemirror_mode": {
    "name": "ipython",
    "version": 3
   },
   "file_extension": ".py",
   "mimetype": "text/x-python",
   "name": "python",
   "nbconvert_exporter": "python",
   "pygments_lexer": "ipython3",
   "version": "3.7.3"
  }
 },
 "nbformat": 4,
 "nbformat_minor": 2
}
